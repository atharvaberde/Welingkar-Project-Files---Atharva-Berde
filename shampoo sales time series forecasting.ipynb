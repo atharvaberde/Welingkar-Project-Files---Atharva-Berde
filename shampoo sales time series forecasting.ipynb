{
 "cells": [
  {
   "cell_type": "code",
   "execution_count": 7,
   "id": "d311a9f1",
   "metadata": {},
   "outputs": [],
   "source": [
    "import pandas as pd\n",
    "import matplotlib.pyplot as plt\n",
    "%matplotlib inline"
   ]
  },
  {
   "cell_type": "code",
   "execution_count": 8,
   "id": "16c45bd0",
   "metadata": {},
   "outputs": [],
   "source": [
    "shampoo = pd.read_csv(\"C:/Users/atharva/OneDrive/Desktop/self learn data science/machine learning algorithms/predictive analytics/shampoo_with_exog.csv\")"
   ]
  },
  {
   "cell_type": "code",
   "execution_count": 9,
   "id": "e1830be6",
   "metadata": {},
   "outputs": [
    {
     "data": {
      "text/html": [
       "<div>\n",
       "<style scoped>\n",
       "    .dataframe tbody tr th:only-of-type {\n",
       "        vertical-align: middle;\n",
       "    }\n",
       "\n",
       "    .dataframe tbody tr th {\n",
       "        vertical-align: top;\n",
       "    }\n",
       "\n",
       "    .dataframe thead th {\n",
       "        text-align: right;\n",
       "    }\n",
       "</style>\n",
       "<table border=\"1\" class=\"dataframe\">\n",
       "  <thead>\n",
       "    <tr style=\"text-align: right;\">\n",
       "      <th></th>\n",
       "      <th>Month</th>\n",
       "      <th>Sales</th>\n",
       "    </tr>\n",
       "  </thead>\n",
       "  <tbody>\n",
       "    <tr>\n",
       "      <th>0</th>\n",
       "      <td>1-Jan</td>\n",
       "      <td>266.0</td>\n",
       "    </tr>\n",
       "    <tr>\n",
       "      <th>1</th>\n",
       "      <td>2-Jan</td>\n",
       "      <td>145.9</td>\n",
       "    </tr>\n",
       "    <tr>\n",
       "      <th>2</th>\n",
       "      <td>3-Jan</td>\n",
       "      <td>183.1</td>\n",
       "    </tr>\n",
       "    <tr>\n",
       "      <th>3</th>\n",
       "      <td>4-Jan</td>\n",
       "      <td>119.3</td>\n",
       "    </tr>\n",
       "    <tr>\n",
       "      <th>4</th>\n",
       "      <td>5-Jan</td>\n",
       "      <td>180.3</td>\n",
       "    </tr>\n",
       "  </tbody>\n",
       "</table>\n",
       "</div>"
      ],
      "text/plain": [
       "   Month  Sales\n",
       "0  1-Jan  266.0\n",
       "1  2-Jan  145.9\n",
       "2  3-Jan  183.1\n",
       "3  4-Jan  119.3\n",
       "4  5-Jan  180.3"
      ]
     },
     "execution_count": 9,
     "metadata": {},
     "output_type": "execute_result"
    }
   ],
   "source": [
    "shampoo.head()"
   ]
  },
  {
   "cell_type": "code",
   "execution_count": 10,
   "id": "bc7315f7",
   "metadata": {},
   "outputs": [
    {
     "data": {
      "text/plain": [
       "pandas.core.frame.DataFrame"
      ]
     },
     "execution_count": 10,
     "metadata": {},
     "output_type": "execute_result"
    }
   ],
   "source": [
    "type(shampoo)"
   ]
  },
  {
   "cell_type": "code",
   "execution_count": 11,
   "id": "560d3f8d",
   "metadata": {},
   "outputs": [
    {
     "name": "stderr",
     "output_type": "stream",
     "text": [
      "C:\\Users\\atharva\\AppData\\Local\\Temp\\ipykernel_48632\\1478747770.py:1: FutureWarning: The squeeze argument has been deprecated and will be removed in a future version. Append .squeeze(\"columns\") to the call to squeeze.\n",
      "\n",
      "\n",
      "  shampoo = pd.read_csv(\"C:/Users/atharva/OneDrive/Desktop/self learn data science/machine learning algorithms/predictive analytics/shampoo_with_exog.csv\", index_col =[0],parse_dates = True, squeeze = True)\n"
     ]
    }
   ],
   "source": [
    "#conversion of dataframe into series for time series modelling\n",
    "\n",
    "shampoo = pd.read_csv(\"C:/Users/atharva/OneDrive/Desktop/self learn data science/machine learning algorithms/predictive analytics/shampoo_with_exog.csv\", index_col =[0],parse_dates = True, squeeze = True)"
   ]
  },
  {
   "cell_type": "code",
   "execution_count": 12,
   "id": "5441c785",
   "metadata": {},
   "outputs": [
    {
     "data": {
      "text/plain": [
       "pandas.core.series.Series"
      ]
     },
     "execution_count": 12,
     "metadata": {},
     "output_type": "execute_result"
    }
   ],
   "source": [
    "type(shampoo)"
   ]
  },
  {
   "cell_type": "code",
   "execution_count": 13,
   "id": "fa40cae1",
   "metadata": {},
   "outputs": [
    {
     "data": {
      "text/plain": [
       "<AxesSubplot:xlabel='Month'>"
      ]
     },
     "execution_count": 13,
     "metadata": {},
     "output_type": "execute_result"
    },
    {
     "data": {
      "image/png": "[encoded data removed]",
      "text/plain": [
       "<Figure size 432x288 with 1 Axes>"
      ]
     },
     "metadata": {
      "needs_background": "light"
     },
     "output_type": "display_data"
    }
   ],
   "source": [
    "# plotting the time series graph\n",
    "shampoo.plot()"
   ]
  },
  {
   "cell_type": "code",
   "execution_count": 14,
   "id": "e5f9d85e",
   "metadata": {},
   "outputs": [
    {
     "data": {
      "text/plain": [
       "<AxesSubplot:xlabel='Month'>"
      ]
     },
     "execution_count": 14,
     "metadata": {},
     "output_type": "execute_result"
    },
    {
     "data": {
      "image/png": "[encoded data removed]",
      "text/plain": [
       "<Figure size 432x288 with 1 Axes>"
      ]
     },
     "metadata": {
      "needs_background": "light"
     },
     "output_type": "display_data"
    }
   ],
   "source": [
    "# changing style of the plot\n",
    "shampoo.plot(style = 'k.')"
   ]
  },
  {
   "cell_type": "code",
   "execution_count": 16,
   "id": "970a0f79",
   "metadata": {},
   "outputs": [
    {
     "data": {
      "text/plain": [
       "36"
      ]
     },
     "execution_count": 16,
     "metadata": {},
     "output_type": "execute_result"
    }
   ],
   "source": [
    "shampoo.size"
   ]
  },
  {
   "cell_type": "code",
   "execution_count": 17,
   "id": "8fc52304",
   "metadata": {},
   "outputs": [
    {
     "data": {
      "text/plain": [
       "count     36.000000\n",
       "mean     312.600000\n",
       "std      148.937164\n",
       "min      119.300000\n",
       "25%      192.450000\n",
       "50%      280.150000\n",
       "75%      411.100000\n",
       "max      682.000000\n",
       "Name: Sales, dtype: float64"
      ]
     },
     "execution_count": 17,
     "metadata": {},
     "output_type": "execute_result"
    }
   ],
   "source": [
    "shampoo.describe()"
   ]
  },
  {
   "cell_type": "markdown",
   "id": "df91212f",
   "metadata": {},
   "source": [
    "# Moving averages for time series forecasting\n"
   ]
  },
  {
   "cell_type": "code",
   "execution_count": 20,
   "id": "acc46fd0",
   "metadata": {},
   "outputs": [],
   "source": [
    "shampoo_ma = shampoo.rolling(window = 10).mean()"
   ]
  },
  {
   "cell_type": "code",
   "execution_count": 38,
   "id": "27a14817",
   "metadata": {},
   "outputs": [
    {
     "data": {
      "text/plain": [
       "Month\n",
       "1-Jan        NaN\n",
       "2-Jan        NaN\n",
       "3-Jan        NaN\n",
       "4-Jan        NaN\n",
       "5-Jan        NaN\n",
       "6-Jan        NaN\n",
       "7-Jan        NaN\n",
       "8-Jan        NaN\n",
       "9-Jan        NaN\n",
       "10-Jan    183.51\n",
       "11-Jan    190.56\n",
       "12-Jan    194.56\n",
       "1-Feb     195.68\n",
       "2-Feb     198.70\n",
       "3-Feb     201.68\n",
       "4-Feb     212.16\n",
       "5-Feb     208.12\n",
       "6-Feb     214.37\n",
       "7-Feb     217.69\n",
       "8-Feb     235.76\n",
       "9-Feb     231.10\n",
       "10-Feb    254.67\n",
       "11-Feb    261.69\n",
       "12-Feb    280.97\n",
       "1-Mar     293.93\n",
       "2-Mar     310.64\n",
       "3-Mar     323.09\n",
       "4-Mar     338.32\n",
       "5-Mar     355.85\n",
       "6-Mar     369.23\n",
       "7-Mar     397.79\n",
       "8-Mar     396.39\n",
       "9-Mar     438.14\n",
       "10-Mar    451.44\n",
       "11-Mar    475.60\n",
       "12-Mar    496.25\n",
       "Name: Sales, dtype: float64"
      ]
     },
     "execution_count": 38,
     "metadata": {},
     "output_type": "execute_result"
    }
   ],
   "source": [
    "shampoo_ma"
   ]
  },
  {
   "cell_type": "code",
   "execution_count": 21,
   "id": "71324010",
   "metadata": {},
   "outputs": [
    {
     "data": {
      "text/plain": [
       "<AxesSubplot:xlabel='Month'>"
      ]
     },
     "execution_count": 21,
     "metadata": {},
     "output_type": "execute_result"
    },
    {
     "data": {
      "image/png": "[encoded data removed]",
      "text/plain": [
       "<Figure size 432x288 with 1 Axes>"
      ]
     },
     "metadata": {
      "needs_background": "light"
     },
     "output_type": "display_data"
    }
   ],
   "source": [
    "shampoo_ma.plot()"
   ]
  },
  {
   "cell_type": "markdown",
   "id": "2ecd6d76",
   "metadata": {},
   "source": [
    "# Base Line Model for Time Series Forecasting"
   ]
  },
  {
   "cell_type": "code",
   "execution_count": 22,
   "id": "48290439",
   "metadata": {},
   "outputs": [
    {
     "data": {
      "text/plain": [
       "Month\n",
       "1-Jan     266.0\n",
       "2-Jan     145.9\n",
       "3-Jan     183.1\n",
       "4-Jan     119.3\n",
       "5-Jan     180.3\n",
       "6-Jan     168.5\n",
       "7-Jan     231.8\n",
       "8-Jan     224.5\n",
       "9-Jan     192.8\n",
       "10-Jan    122.9\n",
       "11-Jan    336.5\n",
       "12-Jan    185.9\n",
       "1-Feb     194.3\n",
       "2-Feb     149.5\n",
       "3-Feb     210.1\n",
       "4-Feb     273.3\n",
       "5-Feb     191.4\n",
       "6-Feb     287.0\n",
       "7-Feb     226.0\n",
       "8-Feb     303.6\n",
       "9-Feb     289.9\n",
       "10-Feb    421.6\n",
       "11-Feb    264.5\n",
       "12-Feb    342.3\n",
       "1-Mar     339.7\n",
       "2-Mar     440.4\n",
       "3-Mar     315.9\n",
       "4-Mar     439.3\n",
       "5-Mar     401.3\n",
       "6-Mar     437.4\n",
       "7-Mar     575.5\n",
       "8-Mar     407.6\n",
       "9-Mar     682.0\n",
       "10-Mar    475.3\n",
       "11-Mar    581.3\n",
       "12-Mar    646.9\n",
       "Name: Sales, dtype: float64"
      ]
     },
     "execution_count": 22,
     "metadata": {},
     "output_type": "execute_result"
    }
   ],
   "source": [
    "shampoo"
   ]
  },
  {
   "cell_type": "code",
   "execution_count": 25,
   "id": "16da91f3",
   "metadata": {},
   "outputs": [],
   "source": [
    "# creating a baseline model by shifting previous datapoint (t+1)\n",
    "shampoo_baseline = pd.concat([shampoo,shampoo.shift(1)],axis=1)"
   ]
  },
  {
   "cell_type": "code",
   "execution_count": 26,
   "id": "2f9c3ad2",
   "metadata": {},
   "outputs": [
    {
     "data": {
      "text/html": [
       "<div>\n",
       "<style scoped>\n",
       "    .dataframe tbody tr th:only-of-type {\n",
       "        vertical-align: middle;\n",
       "    }\n",
       "\n",
       "    .dataframe tbody tr th {\n",
       "        vertical-align: top;\n",
       "    }\n",
       "\n",
       "    .dataframe thead th {\n",
       "        text-align: right;\n",
       "    }\n",
       "</style>\n",
       "<table border=\"1\" class=\"dataframe\">\n",
       "  <thead>\n",
       "    <tr style=\"text-align: right;\">\n",
       "      <th></th>\n",
       "      <th>Sales</th>\n",
       "      <th>Sales</th>\n",
       "    </tr>\n",
       "    <tr>\n",
       "      <th>Month</th>\n",
       "      <th></th>\n",
       "      <th></th>\n",
       "    </tr>\n",
       "  </thead>\n",
       "  <tbody>\n",
       "    <tr>\n",
       "      <th>1-Jan</th>\n",
       "      <td>266.0</td>\n",
       "      <td>NaN</td>\n",
       "    </tr>\n",
       "    <tr>\n",
       "      <th>2-Jan</th>\n",
       "      <td>145.9</td>\n",
       "      <td>266.0</td>\n",
       "    </tr>\n",
       "    <tr>\n",
       "      <th>3-Jan</th>\n",
       "      <td>183.1</td>\n",
       "      <td>145.9</td>\n",
       "    </tr>\n",
       "    <tr>\n",
       "      <th>4-Jan</th>\n",
       "      <td>119.3</td>\n",
       "      <td>183.1</td>\n",
       "    </tr>\n",
       "    <tr>\n",
       "      <th>5-Jan</th>\n",
       "      <td>180.3</td>\n",
       "      <td>119.3</td>\n",
       "    </tr>\n",
       "    <tr>\n",
       "      <th>6-Jan</th>\n",
       "      <td>168.5</td>\n",
       "      <td>180.3</td>\n",
       "    </tr>\n",
       "    <tr>\n",
       "      <th>7-Jan</th>\n",
       "      <td>231.8</td>\n",
       "      <td>168.5</td>\n",
       "    </tr>\n",
       "    <tr>\n",
       "      <th>8-Jan</th>\n",
       "      <td>224.5</td>\n",
       "      <td>231.8</td>\n",
       "    </tr>\n",
       "    <tr>\n",
       "      <th>9-Jan</th>\n",
       "      <td>192.8</td>\n",
       "      <td>224.5</td>\n",
       "    </tr>\n",
       "    <tr>\n",
       "      <th>10-Jan</th>\n",
       "      <td>122.9</td>\n",
       "      <td>192.8</td>\n",
       "    </tr>\n",
       "    <tr>\n",
       "      <th>11-Jan</th>\n",
       "      <td>336.5</td>\n",
       "      <td>122.9</td>\n",
       "    </tr>\n",
       "    <tr>\n",
       "      <th>12-Jan</th>\n",
       "      <td>185.9</td>\n",
       "      <td>336.5</td>\n",
       "    </tr>\n",
       "    <tr>\n",
       "      <th>1-Feb</th>\n",
       "      <td>194.3</td>\n",
       "      <td>185.9</td>\n",
       "    </tr>\n",
       "    <tr>\n",
       "      <th>2-Feb</th>\n",
       "      <td>149.5</td>\n",
       "      <td>194.3</td>\n",
       "    </tr>\n",
       "    <tr>\n",
       "      <th>3-Feb</th>\n",
       "      <td>210.1</td>\n",
       "      <td>149.5</td>\n",
       "    </tr>\n",
       "    <tr>\n",
       "      <th>4-Feb</th>\n",
       "      <td>273.3</td>\n",
       "      <td>210.1</td>\n",
       "    </tr>\n",
       "    <tr>\n",
       "      <th>5-Feb</th>\n",
       "      <td>191.4</td>\n",
       "      <td>273.3</td>\n",
       "    </tr>\n",
       "    <tr>\n",
       "      <th>6-Feb</th>\n",
       "      <td>287.0</td>\n",
       "      <td>191.4</td>\n",
       "    </tr>\n",
       "    <tr>\n",
       "      <th>7-Feb</th>\n",
       "      <td>226.0</td>\n",
       "      <td>287.0</td>\n",
       "    </tr>\n",
       "    <tr>\n",
       "      <th>8-Feb</th>\n",
       "      <td>303.6</td>\n",
       "      <td>226.0</td>\n",
       "    </tr>\n",
       "    <tr>\n",
       "      <th>9-Feb</th>\n",
       "      <td>289.9</td>\n",
       "      <td>303.6</td>\n",
       "    </tr>\n",
       "    <tr>\n",
       "      <th>10-Feb</th>\n",
       "      <td>421.6</td>\n",
       "      <td>289.9</td>\n",
       "    </tr>\n",
       "    <tr>\n",
       "      <th>11-Feb</th>\n",
       "      <td>264.5</td>\n",
       "      <td>421.6</td>\n",
       "    </tr>\n",
       "    <tr>\n",
       "      <th>12-Feb</th>\n",
       "      <td>342.3</td>\n",
       "      <td>264.5</td>\n",
       "    </tr>\n",
       "    <tr>\n",
       "      <th>1-Mar</th>\n",
       "      <td>339.7</td>\n",
       "      <td>342.3</td>\n",
       "    </tr>\n",
       "    <tr>\n",
       "      <th>2-Mar</th>\n",
       "      <td>440.4</td>\n",
       "      <td>339.7</td>\n",
       "    </tr>\n",
       "    <tr>\n",
       "      <th>3-Mar</th>\n",
       "      <td>315.9</td>\n",
       "      <td>440.4</td>\n",
       "    </tr>\n",
       "    <tr>\n",
       "      <th>4-Mar</th>\n",
       "      <td>439.3</td>\n",
       "      <td>315.9</td>\n",
       "    </tr>\n",
       "    <tr>\n",
       "      <th>5-Mar</th>\n",
       "      <td>401.3</td>\n",
       "      <td>439.3</td>\n",
       "    </tr>\n",
       "    <tr>\n",
       "      <th>6-Mar</th>\n",
       "      <td>437.4</td>\n",
       "      <td>401.3</td>\n",
       "    </tr>\n",
       "    <tr>\n",
       "      <th>7-Mar</th>\n",
       "      <td>575.5</td>\n",
       "      <td>437.4</td>\n",
       "    </tr>\n",
       "    <tr>\n",
       "      <th>8-Mar</th>\n",
       "      <td>407.6</td>\n",
       "      <td>575.5</td>\n",
       "    </tr>\n",
       "    <tr>\n",
       "      <th>9-Mar</th>\n",
       "      <td>682.0</td>\n",
       "      <td>407.6</td>\n",
       "    </tr>\n",
       "    <tr>\n",
       "      <th>10-Mar</th>\n",
       "      <td>475.3</td>\n",
       "      <td>682.0</td>\n",
       "    </tr>\n",
       "    <tr>\n",
       "      <th>11-Mar</th>\n",
       "      <td>581.3</td>\n",
       "      <td>475.3</td>\n",
       "    </tr>\n",
       "    <tr>\n",
       "      <th>12-Mar</th>\n",
       "      <td>646.9</td>\n",
       "      <td>581.3</td>\n",
       "    </tr>\n",
       "  </tbody>\n",
       "</table>\n",
       "</div>"
      ],
      "text/plain": [
       "        Sales  Sales\n",
       "Month               \n",
       "1-Jan   266.0    NaN\n",
       "2-Jan   145.9  266.0\n",
       "3-Jan   183.1  145.9\n",
       "4-Jan   119.3  183.1\n",
       "5-Jan   180.3  119.3\n",
       "6-Jan   168.5  180.3\n",
       "7-Jan   231.8  168.5\n",
       "8-Jan   224.5  231.8\n",
       "9-Jan   192.8  224.5\n",
       "10-Jan  122.9  192.8\n",
       "11-Jan  336.5  122.9\n",
       "12-Jan  185.9  336.5\n",
       "1-Feb   194.3  185.9\n",
       "2-Feb   149.5  194.3\n",
       "3-Feb   210.1  149.5\n",
       "4-Feb   273.3  210.1\n",
       "5-Feb   191.4  273.3\n",
       "6-Feb   287.0  191.4\n",
       "7-Feb   226.0  287.0\n",
       "8-Feb   303.6  226.0\n",
       "9-Feb   289.9  303.6\n",
       "10-Feb  421.6  289.9\n",
       "11-Feb  264.5  421.6\n",
       "12-Feb  342.3  264.5\n",
       "1-Mar   339.7  342.3\n",
       "2-Mar   440.4  339.7\n",
       "3-Mar   315.9  440.4\n",
       "4-Mar   439.3  315.9\n",
       "5-Mar   401.3  439.3\n",
       "6-Mar   437.4  401.3\n",
       "7-Mar   575.5  437.4\n",
       "8-Mar   407.6  575.5\n",
       "9-Mar   682.0  407.6\n",
       "10-Mar  475.3  682.0\n",
       "11-Mar  581.3  475.3\n",
       "12-Mar  646.9  581.3"
      ]
     },
     "execution_count": 26,
     "metadata": {},
     "output_type": "execute_result"
    }
   ],
   "source": [
    "shampoo_baseline"
   ]
  },
  {
   "cell_type": "code",
   "execution_count": 27,
   "id": "84b0f833",
   "metadata": {},
   "outputs": [],
   "source": [
    "shampoo_baseline.columns = ['Actual_Sales', 'Forecasted_sales']"
   ]
  },
  {
   "cell_type": "code",
   "execution_count": 28,
   "id": "345216a3",
   "metadata": {},
   "outputs": [
    {
     "data": {
      "text/html": [
       "<div>\n",
       "<style scoped>\n",
       "    .dataframe tbody tr th:only-of-type {\n",
       "        vertical-align: middle;\n",
       "    }\n",
       "\n",
       "    .dataframe tbody tr th {\n",
       "        vertical-align: top;\n",
       "    }\n",
       "\n",
       "    .dataframe thead th {\n",
       "        text-align: right;\n",
       "    }\n",
       "</style>\n",
       "<table border=\"1\" class=\"dataframe\">\n",
       "  <thead>\n",
       "    <tr style=\"text-align: right;\">\n",
       "      <th></th>\n",
       "      <th>Actual_Sales</th>\n",
       "      <th>Forecasted_sales</th>\n",
       "    </tr>\n",
       "    <tr>\n",
       "      <th>Month</th>\n",
       "      <th></th>\n",
       "      <th></th>\n",
       "    </tr>\n",
       "  </thead>\n",
       "  <tbody>\n",
       "    <tr>\n",
       "      <th>1-Jan</th>\n",
       "      <td>266.0</td>\n",
       "      <td>NaN</td>\n",
       "    </tr>\n",
       "    <tr>\n",
       "      <th>2-Jan</th>\n",
       "      <td>145.9</td>\n",
       "      <td>266.0</td>\n",
       "    </tr>\n",
       "    <tr>\n",
       "      <th>3-Jan</th>\n",
       "      <td>183.1</td>\n",
       "      <td>145.9</td>\n",
       "    </tr>\n",
       "    <tr>\n",
       "      <th>4-Jan</th>\n",
       "      <td>119.3</td>\n",
       "      <td>183.1</td>\n",
       "    </tr>\n",
       "    <tr>\n",
       "      <th>5-Jan</th>\n",
       "      <td>180.3</td>\n",
       "      <td>119.3</td>\n",
       "    </tr>\n",
       "  </tbody>\n",
       "</table>\n",
       "</div>"
      ],
      "text/plain": [
       "       Actual_Sales  Forecasted_sales\n",
       "Month                                \n",
       "1-Jan         266.0               NaN\n",
       "2-Jan         145.9             266.0\n",
       "3-Jan         183.1             145.9\n",
       "4-Jan         119.3             183.1\n",
       "5-Jan         180.3             119.3"
      ]
     },
     "execution_count": 28,
     "metadata": {},
     "output_type": "execute_result"
    }
   ],
   "source": [
    "shampoo_baseline.head()"
   ]
  },
  {
   "cell_type": "code",
   "execution_count": 31,
   "id": "207c24bf",
   "metadata": {},
   "outputs": [],
   "source": [
    "#drop the first row for better result\n",
    "shampoo_baseline.dropna(inplace = True)"
   ]
  },
  {
   "cell_type": "code",
   "execution_count": 32,
   "id": "421abdce",
   "metadata": {},
   "outputs": [
    {
     "data": {
      "text/html": [
       "<div>\n",
       "<style scoped>\n",
       "    .dataframe tbody tr th:only-of-type {\n",
       "        vertical-align: middle;\n",
       "    }\n",
       "\n",
       "    .dataframe tbody tr th {\n",
       "        vertical-align: top;\n",
       "    }\n",
       "\n",
       "    .dataframe thead th {\n",
       "        text-align: right;\n",
       "    }\n",
       "</style>\n",
       "<table border=\"1\" class=\"dataframe\">\n",
       "  <thead>\n",
       "    <tr style=\"text-align: right;\">\n",
       "      <th></th>\n",
       "      <th>Actual_Sales</th>\n",
       "      <th>Forecasted_sales</th>\n",
       "    </tr>\n",
       "    <tr>\n",
       "      <th>Month</th>\n",
       "      <th></th>\n",
       "      <th></th>\n",
       "    </tr>\n",
       "  </thead>\n",
       "  <tbody>\n",
       "    <tr>\n",
       "      <th>2-Jan</th>\n",
       "      <td>145.9</td>\n",
       "      <td>266.0</td>\n",
       "    </tr>\n",
       "    <tr>\n",
       "      <th>3-Jan</th>\n",
       "      <td>183.1</td>\n",
       "      <td>145.9</td>\n",
       "    </tr>\n",
       "    <tr>\n",
       "      <th>4-Jan</th>\n",
       "      <td>119.3</td>\n",
       "      <td>183.1</td>\n",
       "    </tr>\n",
       "    <tr>\n",
       "      <th>5-Jan</th>\n",
       "      <td>180.3</td>\n",
       "      <td>119.3</td>\n",
       "    </tr>\n",
       "    <tr>\n",
       "      <th>6-Jan</th>\n",
       "      <td>168.5</td>\n",
       "      <td>180.3</td>\n",
       "    </tr>\n",
       "    <tr>\n",
       "      <th>7-Jan</th>\n",
       "      <td>231.8</td>\n",
       "      <td>168.5</td>\n",
       "    </tr>\n",
       "    <tr>\n",
       "      <th>8-Jan</th>\n",
       "      <td>224.5</td>\n",
       "      <td>231.8</td>\n",
       "    </tr>\n",
       "    <tr>\n",
       "      <th>9-Jan</th>\n",
       "      <td>192.8</td>\n",
       "      <td>224.5</td>\n",
       "    </tr>\n",
       "    <tr>\n",
       "      <th>10-Jan</th>\n",
       "      <td>122.9</td>\n",
       "      <td>192.8</td>\n",
       "    </tr>\n",
       "    <tr>\n",
       "      <th>11-Jan</th>\n",
       "      <td>336.5</td>\n",
       "      <td>122.9</td>\n",
       "    </tr>\n",
       "    <tr>\n",
       "      <th>12-Jan</th>\n",
       "      <td>185.9</td>\n",
       "      <td>336.5</td>\n",
       "    </tr>\n",
       "    <tr>\n",
       "      <th>1-Feb</th>\n",
       "      <td>194.3</td>\n",
       "      <td>185.9</td>\n",
       "    </tr>\n",
       "    <tr>\n",
       "      <th>2-Feb</th>\n",
       "      <td>149.5</td>\n",
       "      <td>194.3</td>\n",
       "    </tr>\n",
       "    <tr>\n",
       "      <th>3-Feb</th>\n",
       "      <td>210.1</td>\n",
       "      <td>149.5</td>\n",
       "    </tr>\n",
       "    <tr>\n",
       "      <th>4-Feb</th>\n",
       "      <td>273.3</td>\n",
       "      <td>210.1</td>\n",
       "    </tr>\n",
       "    <tr>\n",
       "      <th>5-Feb</th>\n",
       "      <td>191.4</td>\n",
       "      <td>273.3</td>\n",
       "    </tr>\n",
       "    <tr>\n",
       "      <th>6-Feb</th>\n",
       "      <td>287.0</td>\n",
       "      <td>191.4</td>\n",
       "    </tr>\n",
       "    <tr>\n",
       "      <th>7-Feb</th>\n",
       "      <td>226.0</td>\n",
       "      <td>287.0</td>\n",
       "    </tr>\n",
       "    <tr>\n",
       "      <th>8-Feb</th>\n",
       "      <td>303.6</td>\n",
       "      <td>226.0</td>\n",
       "    </tr>\n",
       "    <tr>\n",
       "      <th>9-Feb</th>\n",
       "      <td>289.9</td>\n",
       "      <td>303.6</td>\n",
       "    </tr>\n",
       "    <tr>\n",
       "      <th>10-Feb</th>\n",
       "      <td>421.6</td>\n",
       "      <td>289.9</td>\n",
       "    </tr>\n",
       "    <tr>\n",
       "      <th>11-Feb</th>\n",
       "      <td>264.5</td>\n",
       "      <td>421.6</td>\n",
       "    </tr>\n",
       "    <tr>\n",
       "      <th>12-Feb</th>\n",
       "      <td>342.3</td>\n",
       "      <td>264.5</td>\n",
       "    </tr>\n",
       "    <tr>\n",
       "      <th>1-Mar</th>\n",
       "      <td>339.7</td>\n",
       "      <td>342.3</td>\n",
       "    </tr>\n",
       "    <tr>\n",
       "      <th>2-Mar</th>\n",
       "      <td>440.4</td>\n",
       "      <td>339.7</td>\n",
       "    </tr>\n",
       "    <tr>\n",
       "      <th>3-Mar</th>\n",
       "      <td>315.9</td>\n",
       "      <td>440.4</td>\n",
       "    </tr>\n",
       "    <tr>\n",
       "      <th>4-Mar</th>\n",
       "      <td>439.3</td>\n",
       "      <td>315.9</td>\n",
       "    </tr>\n",
       "    <tr>\n",
       "      <th>5-Mar</th>\n",
       "      <td>401.3</td>\n",
       "      <td>439.3</td>\n",
       "    </tr>\n",
       "    <tr>\n",
       "      <th>6-Mar</th>\n",
       "      <td>437.4</td>\n",
       "      <td>401.3</td>\n",
       "    </tr>\n",
       "    <tr>\n",
       "      <th>7-Mar</th>\n",
       "      <td>575.5</td>\n",
       "      <td>437.4</td>\n",
       "    </tr>\n",
       "    <tr>\n",
       "      <th>8-Mar</th>\n",
       "      <td>407.6</td>\n",
       "      <td>575.5</td>\n",
       "    </tr>\n",
       "    <tr>\n",
       "      <th>9-Mar</th>\n",
       "      <td>682.0</td>\n",
       "      <td>407.6</td>\n",
       "    </tr>\n",
       "    <tr>\n",
       "      <th>10-Mar</th>\n",
       "      <td>475.3</td>\n",
       "      <td>682.0</td>\n",
       "    </tr>\n",
       "    <tr>\n",
       "      <th>11-Mar</th>\n",
       "      <td>581.3</td>\n",
       "      <td>475.3</td>\n",
       "    </tr>\n",
       "    <tr>\n",
       "      <th>12-Mar</th>\n",
       "      <td>646.9</td>\n",
       "      <td>581.3</td>\n",
       "    </tr>\n",
       "  </tbody>\n",
       "</table>\n",
       "</div>"
      ],
      "text/plain": [
       "        Actual_Sales  Forecasted_sales\n",
       "Month                                 \n",
       "2-Jan          145.9             266.0\n",
       "3-Jan          183.1             145.9\n",
       "4-Jan          119.3             183.1\n",
       "5-Jan          180.3             119.3\n",
       "6-Jan          168.5             180.3\n",
       "7-Jan          231.8             168.5\n",
       "8-Jan          224.5             231.8\n",
       "9-Jan          192.8             224.5\n",
       "10-Jan         122.9             192.8\n",
       "11-Jan         336.5             122.9\n",
       "12-Jan         185.9             336.5\n",
       "1-Feb          194.3             185.9\n",
       "2-Feb          149.5             194.3\n",
       "3-Feb          210.1             149.5\n",
       "4-Feb          273.3             210.1\n",
       "5-Feb          191.4             273.3\n",
       "6-Feb          287.0             191.4\n",
       "7-Feb          226.0             287.0\n",
       "8-Feb          303.6             226.0\n",
       "9-Feb          289.9             303.6\n",
       "10-Feb         421.6             289.9\n",
       "11-Feb         264.5             421.6\n",
       "12-Feb         342.3             264.5\n",
       "1-Mar          339.7             342.3\n",
       "2-Mar          440.4             339.7\n",
       "3-Mar          315.9             440.4\n",
       "4-Mar          439.3             315.9\n",
       "5-Mar          401.3             439.3\n",
       "6-Mar          437.4             401.3\n",
       "7-Mar          575.5             437.4\n",
       "8-Mar          407.6             575.5\n",
       "9-Mar          682.0             407.6\n",
       "10-Mar         475.3             682.0\n",
       "11-Mar         581.3             475.3\n",
       "12-Mar         646.9             581.3"
      ]
     },
     "execution_count": 32,
     "metadata": {},
     "output_type": "execute_result"
    }
   ],
   "source": [
    "shampoo_baseline"
   ]
  },
  {
   "cell_type": "code",
   "execution_count": 39,
   "id": "127fe724",
   "metadata": {},
   "outputs": [
    {
     "data": {
      "text/plain": [
       "<AxesSubplot:xlabel='Month'>"
      ]
     },
     "execution_count": 39,
     "metadata": {},
     "output_type": "execute_result"
    },
    {
     "data": {
      "image/png": "[encoded data removed]",
      "text/plain": [
       "<Figure size 432x288 with 1 Axes>"
      ]
     },
     "metadata": {
      "needs_background": "light"
     },
     "output_type": "display_data"
    }
   ],
   "source": [
    "shampoo_baseline.plot()"
   ]
  },
  {
   "cell_type": "code",
   "execution_count": 33,
   "id": "5d73394c",
   "metadata": {},
   "outputs": [],
   "source": [
    "# checking the errors and accuracy of the baseline model withthe help of MSE and RMSE\n",
    "\n",
    "from sklearn.metrics import mean_squared_error\n",
    "import numpy as np"
   ]
  },
  {
   "cell_type": "code",
   "execution_count": 35,
   "id": "06bc5b3a",
   "metadata": {},
   "outputs": [],
   "source": [
    "shampoo_error = mean_squared_error(shampoo_baseline.Actual_Sales,shampoo_baseline.Forecasted_sales)"
   ]
  },
  {
   "cell_type": "code",
   "execution_count": 36,
   "id": "727906ca",
   "metadata": {},
   "outputs": [
    {
     "data": {
      "text/plain": [
       "11715.388285714285"
      ]
     },
     "execution_count": 36,
     "metadata": {},
     "output_type": "execute_result"
    }
   ],
   "source": [
    "#Mean Squared error\n",
    "shampoo_error"
   ]
  },
  {
   "cell_type": "code",
   "execution_count": 37,
   "id": "cdf8648a",
   "metadata": {},
   "outputs": [
    {
     "data": {
      "text/plain": [
       "108.23764726616282"
      ]
     },
     "execution_count": 37,
     "metadata": {},
     "output_type": "execute_result"
    }
   ],
   "source": [
    "# root mean squared error\n",
    "\n",
    "np.sqrt(shampoo_error)"
   ]
  },
  {
   "cell_type": "markdown",
   "id": "5fbb392d",
   "metadata": {},
   "source": [
    "# ARIMA = (P,D,Q) (Autorgressive, Integrated, Moving Average) "
   ]
  },
  {
   "cell_type": "markdown",
   "id": "c969bc80",
   "metadata": {},
   "source": [
    "### For auto regressive model we calculate PACF | For Moving Average model we calculate ACF "
   ]
  },
  {
   "cell_type": "code",
   "execution_count": 40,
   "id": "edf01fc1",
   "metadata": {},
   "outputs": [],
   "source": [
    "from statsmodels.graphics.tsaplots import plot_acf, plot_pacf"
   ]
  },
  {
   "cell_type": "code",
   "execution_count": 41,
   "id": "b76674b3",
   "metadata": {},
   "outputs": [
    {
     "data": {
      "image/png": "[encoded data removed]",
      "text/plain": [
       "<Figure size 432x288 with 1 Axes>"
      ]
     },
     "execution_count": 41,
     "metadata": {},
     "output_type": "execute_result"
    },
    {
     "data": {
      "image/png": "[encoded data removed]",
      "text/plain": [
       "<Figure size 432x288 with 1 Axes>"
      ]
     },
     "metadata": {
      "needs_background": "light"
     },
     "output_type": "display_data"
    }
   ],
   "source": [
    "plot_acf(shampoo)"
   ]
  },
  {
   "cell_type": "markdown",
   "id": "22ff6920",
   "metadata": {},
   "source": [
    "### from the acf plot we could figure out that Q = 3 "
   ]
  },
  {
   "cell_type": "code",
   "execution_count": 42,
   "id": "b97ca369",
   "metadata": {},
   "outputs": [
    {
     "name": "stderr",
     "output_type": "stream",
     "text": [
      "C:\\Users\\atharva\\anaconda3\\lib\\site-packages\\statsmodels\\graphics\\tsaplots.py:348: FutureWarning: The default method 'yw' can produce PACF values outside of the [-1,1] interval. After 0.13, the default will change tounadjusted Yule-Walker ('ywm'). You can use this method now by setting method='ywm'.\n",
      "  warnings.warn(\n"
     ]
    },
    {
     "data": {
      "image/png": "[encoded data removed]",
      "text/plain": [
       "<Figure size 432x288 with 1 Axes>"
      ]
     },
     "execution_count": 42,
     "metadata": {},
     "output_type": "execute_result"
    },
    {
     "data": {
      "image/png": "[encoded data removed]",
      "text/plain": [
       "<Figure size 432x288 with 1 Axes>"
      ]
     },
     "metadata": {
      "needs_background": "light"
     },
     "output_type": "display_data"
    }
   ],
   "source": [
    "plot_pacf(shampoo)"
   ]
  },
  {
   "cell_type": "markdown",
   "id": "452aa0cc",
   "metadata": {},
   "source": [
    "### from the pacf plot we could figure out that P = 2"
   ]
  },
  {
   "cell_type": "markdown",
   "id": "3efdcd1a",
   "metadata": {},
   "source": [
    "## To remove the trend and seasonality factor from the time series we make use of \"D\" we assume D between 0-2 to make the the time series dataset stationary"
   ]
  },
  {
   "cell_type": "markdown",
   "id": "63c815c1",
   "metadata": {},
   "source": [
    "# ARIMA Model"
   ]
  },
  {
   "cell_type": "code",
   "execution_count": 48,
   "id": "c0457816",
   "metadata": {},
   "outputs": [],
   "source": [
    "from statsmodels.tsa.arima.model import ARIMA"
   ]
  },
  {
   "cell_type": "code",
   "execution_count": 49,
   "id": "d0e8e154",
   "metadata": {},
   "outputs": [],
   "source": [
    "shampoo_train = shampoo[0:25]\n",
    "shampoo_test = shampoo [25:36]"
   ]
  },
  {
   "cell_type": "code",
   "execution_count": 52,
   "id": "7f90823d",
   "metadata": {},
   "outputs": [
    {
     "name": "stderr",
     "output_type": "stream",
     "text": [
      "C:\\Users\\atharva\\anaconda3\\lib\\site-packages\\statsmodels\\tsa\\base\\tsa_model.py:471: ValueWarning: An unsupported index was provided and will be ignored when e.g. forecasting.\n",
      "  self._init_dates(dates, freq)\n",
      "C:\\Users\\atharva\\anaconda3\\lib\\site-packages\\statsmodels\\tsa\\base\\tsa_model.py:471: ValueWarning: An unsupported index was provided and will be ignored when e.g. forecasting.\n",
      "  self._init_dates(dates, freq)\n",
      "C:\\Users\\atharva\\anaconda3\\lib\\site-packages\\statsmodels\\tsa\\base\\tsa_model.py:471: ValueWarning: An unsupported index was provided and will be ignored when e.g. forecasting.\n",
      "  self._init_dates(dates, freq)\n"
     ]
    }
   ],
   "source": [
    "#Create the ARIMA Model\n",
    "shampoo_model = ARIMA(shampoo_train, order = (2,1,3))"
   ]
  },
  {
   "cell_type": "code",
   "execution_count": 53,
   "id": "cadbc9cd",
   "metadata": {},
   "outputs": [],
   "source": [
    "# Fitting the ARIMA Model\n",
    "shampoo_model_fit = shampoo_model.fit()"
   ]
  },
  {
   "cell_type": "code",
   "execution_count": 54,
   "id": "73a7f51e",
   "metadata": {},
   "outputs": [
    {
     "data": {
      "text/plain": [
       "278.46527472013554"
      ]
     },
     "execution_count": 54,
     "metadata": {},
     "output_type": "execute_result"
    }
   ],
   "source": [
    "shampoo_model_fit.aic"
   ]
  },
  {
   "cell_type": "code",
   "execution_count": 56,
   "id": "7feb6bf6",
   "metadata": {},
   "outputs": [
    {
     "name": "stderr",
     "output_type": "stream",
     "text": [
      "C:\\Users\\atharva\\anaconda3\\lib\\site-packages\\statsmodels\\tsa\\base\\tsa_model.py:834: ValueWarning: No supported index is available. Prediction results will be given with an integer index beginning at `start`.\n",
      "  return get_prediction_index(\n"
     ]
    }
   ],
   "source": [
    "shampoo_forecast = shampoo_model_fit.forecast(steps = 11)"
   ]
  },
  {
   "cell_type": "code",
   "execution_count": 57,
   "id": "89a0217b",
   "metadata": {},
   "outputs": [
    {
     "data": {
      "text/plain": [
       "25    365.788195\n",
       "26    352.488609\n",
       "27    382.869105\n",
       "28    375.541746\n",
       "29    398.017282\n",
       "30    394.510642\n",
       "31    411.315011\n",
       "32    410.195914\n",
       "33    422.899002\n",
       "34    423.220342\n",
       "35    432.931010\n",
       "Name: predicted_mean, dtype: float64"
      ]
     },
     "execution_count": 57,
     "metadata": {},
     "output_type": "execute_result"
    }
   ],
   "source": [
    "shampoo_forecast"
   ]
  },
  {
   "cell_type": "code",
   "execution_count": 58,
   "id": "9c74c20f",
   "metadata": {},
   "outputs": [
    {
     "data": {
      "text/plain": [
       "<AxesSubplot:>"
      ]
     },
     "execution_count": 58,
     "metadata": {},
     "output_type": "execute_result"
    },
    {
     "data": {
      "image/png": "[encoded data removed]",
      "text/plain": [
       "<Figure size 432x288 with 1 Axes>"
      ]
     },
     "metadata": {
      "needs_background": "light"
     },
     "output_type": "display_data"
    }
   ],
   "source": [
    "shampoo_forecast.plot()"
   ]
  },
  {
   "cell_type": "code",
   "execution_count": 59,
   "id": "fce16b24",
   "metadata": {},
   "outputs": [
    {
     "data": {
      "text/plain": [
       "132.27751882826178"
      ]
     },
     "execution_count": 59,
     "metadata": {},
     "output_type": "execute_result"
    }
   ],
   "source": [
    "np.sqrt(mean_squared_error(shampoo_test,shampoo_forecast))"
   ]
  },
  {
   "cell_type": "markdown",
   "id": "a847a44e",
   "metadata": {},
   "source": [
    "# If ARIMA is better than baseline then accept the ARIMA Model"
   ]
  },
  {
   "cell_type": "markdown",
   "id": "40887aa1",
   "metadata": {},
   "source": [
    "# If ARIMA IS not better than baseline then we perform ARIMA Grid Search  to obtain the best fit arima model"
   ]
  },
  {
   "cell_type": "code",
   "execution_count": 72,
   "id": "bdb2c433",
   "metadata": {},
   "outputs": [],
   "source": [
    "import warnings \n",
    "warnings.filterwarnings('ignore')"
   ]
  },
  {
   "cell_type": "code",
   "execution_count": 73,
   "id": "60d3e1c3",
   "metadata": {},
   "outputs": [],
   "source": [
    "p_values = range(0,5)\n",
    "d_values = range(0,3)\n",
    "q_values = range(0,5)"
   ]
  },
  {
   "cell_type": "code",
   "execution_count": 74,
   "id": "e8563dd9",
   "metadata": {},
   "outputs": [],
   "source": [
    "for p in p_values:\n",
    "    for d in d_values:\n",
    "        for q in q_values:\n",
    "            order = (p,d,q)\n",
    "            train,test = shampoo[0:25], shampoo[25:36]\n",
    "            predictions = list()\n",
    "            for i in range(len(test)):\n",
    "                try:\n",
    "                    model = ARIMA(train, order)\n",
    "                    model_fit = model.fit(disp=0)\n",
    "                    pred_y = model_fit.forecast()[0]\n",
    "                    predictions.append(pred_y)\n",
    "                    error = mean_squared_error(test,predictions)\n",
    "                    print('ARIMA%s MSE = %.2F'% (order,error))\n",
    "                except:\n",
    "                    continue"
   ]
  },
  {
   "cell_type": "markdown",
   "id": "61f83550",
   "metadata": {},
   "source": [
    "# use either of the two codes to find the Best fit ARIMA Model"
   ]
  },
  {
   "cell_type": "code",
   "execution_count": 75,
   "id": "ae085e1c",
   "metadata": {},
   "outputs": [],
   "source": [
    "# Define the values for p, d, and q you want to search\n",
    "p_values = [0, 1, 2]\n",
    "d_values = [0, 1, 2]\n",
    "q_values = [0, 1, 2]\n",
    "\n"
   ]
  },
  {
   "cell_type": "code",
   "execution_count": 76,
   "id": "57d0a38b",
   "metadata": {},
   "outputs": [],
   "source": [
    "# Initialize an empty list to store results\n",
    "results = []"
   ]
  },
  {
   "cell_type": "code",
   "execution_count": 77,
   "id": "cf1c4c0d",
   "metadata": {},
   "outputs": [
    {
     "name": "stdout",
     "output_type": "stream",
     "text": [
      "No valid ARIMA models were fitted.\n"
     ]
    }
   ],
   "source": [
    "\n",
    "\n",
    "for p in p_values:\n",
    "    for d in d_values:\n",
    "        for q in q_values:\n",
    "            order = (p, d, q)\n",
    "            train, test = shampoo[0:25], shampoo[25:36]\n",
    "            predictions = []\n",
    "            try:\n",
    "                for i in range(len(test)):\n",
    "                    model = ARIMA(train, order)\n",
    "                    model_fit = model.fit(disp=0)\n",
    "                    pred_y = model_fit.forecast()[0]\n",
    "                    predictions.append(pred_y)\n",
    "                error = mean_squared_error(test, predictions)\n",
    "                results.append((order, error))\n",
    "                print('ARIMA%s MSE = %.2f' % (order, error))\n",
    "            except:\n",
    "                continue\n",
    "\n",
    "# Check if any results were obtained before finding the best order\n",
    "if results:\n",
    "    best_order, best_mse = min(results, key=lambda x: x[1])\n",
    "    print('Best ARIMA order:', best_order)\n",
    "    print('Best MSE:', best_mse)\n",
    "else:\n",
    "    print('No valid ARIMA models were fitted.')\n"
   ]
  },
  {
   "cell_type": "code",
   "execution_count": null,
   "id": "290bdf8a",
   "metadata": {},
   "outputs": [],
   "source": []
  }
 ],
 "metadata": {
  "kernelspec": {
   "display_name": "Python 3 (ipykernel)",
   "language": "python",
   "name": "python3"
  },
  "language_info": {
   "codemirror_mode": {
    "name": "ipython",
    "version": 3
   },
   "file_extension": ".py",
   "mimetype": "text/x-python",
   "name": "python",
   "nbconvert_exporter": "python",
   "pygments_lexer": "ipython3",
   "version": "3.9.12"
  }
 },
 "nbformat": 4,
 "nbformat_minor": 5
}
